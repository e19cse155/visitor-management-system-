{
  "nbformat": 4,
  "nbformat_minor": 0,
  "metadata": {
    "colab": {
      "name": "Untitled4 (1).ipynb",
      "provenance": [],
      "collapsed_sections": []
    },
    "kernelspec": {
      "name": "python3",
      "display_name": "Python 3"
    }
  },
  "cells": [
    {
      "cell_type": "code",
      "metadata": {
        "id": "abRugJsL_NwS",
        "colab_type": "code",
        "colab": {}
      },
      "source": [
        "import cv2\n",
        "import numpy as np\n",
        "from matplotlib import pyplot as plt\n",
        "import glob\n",
        "txtfiles = [] \n",
        "for file in glob.glob(\"*.jpg\"):\n",
        "    txtfiles.append(file)\n",
        "    \n",
        "for ix in txtfiles:\n",
        "    img = cv2.imread(ix,cv2.IMREAD_COLOR)\n",
        "    imgtest1 = img.copy()\n",
        "    imgtest = cv2.cvtColor(imgtest1, cv2.COLOR_BGR2GRAY)\n",
        "    facecascade = cv2.CascadeClassifier('D:\\\\KJ\\\\Nagesh\\\\Downloads\\\\face_recognition\\\\haarcascade_frontalface_default.xml')\n",
        "    eye_cascade = cv2.CascadeClassifier('D:\\\\KJ\\\\Nagesh\\\\Downloads\\\\face_recognition\\\\haarcascade_eye.xml')\n",
        "   \n",
        "    faces = facecascade.detectMultiScale(imgtest, scaleFactor=1.2, minNeighbors=5)\n",
        " \n",
        "    print(\"Total number of Faces found\",len(faces))\n",
        "    \n",
        "    for (x, y, w, h) in faces:\n",
        "        face_detect = cv2.rectangle(imgtest, (x, y), (x+w, y+h), (255, 0, 255), 2)\n",
        "        roi_gray = imgtest[y:y+h, x:x+w]\n",
        "        roi_color = imgtest[y:y+h, x:x+w]        \n",
        "        plt.imshow(face_detect)\n",
        "        eyes = eye_cascade.detectMultiScale(roi_gray)\n",
        "        for (ex,ey,ew,eh) in eyes:\n",
        "            eye_detect = cv2.rectangle(roi_color,(ex,ey),(ex+ew,ey+eh),(255,0,255),2)\n",
        "            plt.imshow(eye_detect)"
      ],
      "execution_count": 0,
      "outputs": []
    },
    {
      "cell_type": "code",
      "metadata": {
        "id": "q7hn7y8j0JOT",
        "colab_type": "code",
        "colab": {}
      },
      "source": [
        ""
      ],
      "execution_count": 0,
      "outputs": []
    }
  ]
}